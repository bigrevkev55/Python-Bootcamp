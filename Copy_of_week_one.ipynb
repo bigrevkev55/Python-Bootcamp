{
  "nbformat": 4,
  "nbformat_minor": 0,
  "metadata": {
    "colab": {
      "name": "Copy of week_one.ipynb",
      "provenance": [],
      "collapsed_sections": [],
      "authorship_tag": "ABX9TyM7b05Gwqm+lctvb6I2LyUc",
      "include_colab_link": true
    },
    "kernelspec": {
      "name": "python3",
      "display_name": "Python 3"
    }
  },
  "cells": [
    {
      "cell_type": "markdown",
      "metadata": {
        "id": "view-in-github",
        "colab_type": "text"
      },
      "source": [
        "<a href=\"https://colab.research.google.com/github/bigrevkev55/Python-Bootcamp/blob/main/Copy_of_week_one.ipynb\" target=\"_parent\"><img src=\"https://colab.research.google.com/assets/colab-badge.svg\" alt=\"Open In Colab\"/></a>"
      ]
    },
    {
      "cell_type": "code",
      "metadata": {
        "id": "EBq9KE3WiQbn",
        "colab": {
          "base_uri": "https://localhost:8080/"
        },
        "outputId": "31956615-b606-4e8c-8ee8-3fe3c824c256"
      },
      "source": [
        "from random import randint\n",
        "\n",
        "from pip._vendor.colorama import Fore\n",
        "print(Fore.BLUE)\n",
        "number_1 = int(input(\"Welcome to my world, let's play a game! Enter a low number. \"))\n",
        "number_2 = int(input(' Now, enter a high number '))\n",
        "\n",
        "correct = randint(number_1, number_2)\n",
        "print(Fore.BLUE)\n",
        "print(f\"Try to best me by guessing the number I'm thinking of that is between {number_1}-{number_2}\")\n",
        "while True:\n",
        "    guess = int(input('Your Guess is: '))\n",
        "    if guess < correct:\n",
        "        print(Fore.RED)\n",
        "        print('Guess higher weakling, you will never beat me')\n",
        "    elif guess > correct:\n",
        "        print(Fore.MAGENTA)\n",
        "        print('Guess lower; guessing a higher number does not makes you stronger than me, lol!!')\n",
        "    else:\n",
        "        print(Fore.GREEN)\n",
        "        print(\"You win!!!, You are the superior being!! Thanks for playing!\")\n",
        "        break\n"
      ],
      "execution_count": null,
      "outputs": [
        {
          "output_type": "stream",
          "text": [
            "\u001b[34m\n",
            "Welcome to my world, let's play a game! Enter a low number. 3\n",
            " Now, enter a high number 9\n",
            "\u001b[34m\n",
            "Try to best me by guessing the number I'm thinking of that is between 3-9\n",
            "Your Guess is: 5\n",
            "\u001b[35m\n",
            "Guess lower; guessing a higher number does not makes you stronger than me, lol!!\n",
            "Your Guess is: 7\n",
            "\u001b[35m\n",
            "Guess lower; guessing a higher number does not makes you stronger than me, lol!!\n",
            "Your Guess is: 4\n",
            "\u001b[32m\n",
            "You win!!!, You are the superior being!! Thanks for playing!\n"
          ],
          "name": "stdout"
        }
      ]
    }
  ]
}